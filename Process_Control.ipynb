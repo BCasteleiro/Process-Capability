{
  "cells": [
    {
      "cell_type": "markdown",
      "source": [
        "Instructions:\n",
        "1. Runtime -> Run all\n",
        "2. Cell before the last -> upload excel file\n",
        "3. Introduce the file name, process variable to analyze, what is the time indicator and the LSL & USL\n",
        "3. Report exported"
      ],
      "metadata": {
        "id": "MYLEnzmc8HAs"
      }
    },
    {
      "cell_type": "code",
      "execution_count": null,
      "metadata": {
        "id": "oUcNfwjwCiuB"
      },
      "outputs": [],
      "source": [
        "# Import libraries\n",
        "import pandas as pd\n",
        "import numpy as np\n",
        "import matplotlib.pyplot as plt\n",
        "import seaborn as sns\n",
        "import scipy.stats as stats\n",
        "\n",
        "! pip install fitter\n",
        "from fitter import Fitter\n",
        "\n",
        "!pip install pandas openpyxl\n",
        "from google.colab import files\n"
      ]
    },
    {
      "cell_type": "code",
      "execution_count": null,
      "metadata": {
        "id": "3OaZFGVUIKFY"
      },
      "outputs": [],
      "source": [
        "# To read the excel file into a dataframe\n",
        "def excel(dataset):\n",
        "  df = pd.read_excel(dataset, engine='openpyxl')\n",
        "  df.head(1)\n",
        "  return df"
      ]
    },
    {
      "cell_type": "code",
      "execution_count": null,
      "metadata": {
        "id": "YC_q-nwOSSiA"
      },
      "outputs": [],
      "source": [
        "#Clean my table to have only size and PV data for 91232.2 and 902063\n",
        "def clean_table(data,column_1,column_2,column_3):\n",
        "\n",
        "  table = data[[column_1,column_2,column_3]]\n",
        "\n",
        "  return table"
      ]
    },
    {
      "cell_type": "code",
      "execution_count": null,
      "metadata": {
        "id": "GwJMM2OyBNtU"
      },
      "outputs": [],
      "source": [
        "# Clean the data to be possible to apply the nelson rules\n",
        "def clean_column(data, column_name):\n",
        "    data_new = data.copy()\n",
        "    # Convert the Series to DataFrame to use 'subset'\n",
        "    data_new = pd.DataFrame(data_new)\n",
        "    data_new.dropna(subset=[column_name], inplace=True)\n",
        "    data_new= data_new[data_new[column_name] !=' ']\n",
        "    return data_new"
      ]
    },
    {
      "cell_type": "code",
      "execution_count": null,
      "metadata": {
        "id": "C2rQcd-c8iY8"
      },
      "outputs": [],
      "source": [
        "# Function to evaluate if the particles are in spec for a certain property\n",
        "def spec(data, column_x, LL, UL):\n",
        "\n",
        "  data['Spec'] = 0\n",
        "  # Iterate through each row of the DataFrame using the index\n",
        "  for i in data.index:\n",
        "    if (data.loc[i, column_x] >= LL) & (data.loc[i, column_x] <= UL):\n",
        "      data.loc[i, 'Spec'] = 1 #pass\n",
        "    else:  # Simplified the elif condition\n",
        "      data.loc[i, 'Spec'] = 0 #fail\n",
        "\n",
        "  return data"
      ]
    },
    {
      "cell_type": "code",
      "source": [
        "def normality(df,column_name):\n",
        "# Verify if you have a normal distribution\n",
        "    data=df[column_name]\n",
        "    data = pd.DataFrame(data)\n",
        "    data.dropna(subset=[column_name], inplace=True)\n",
        "    data= data[data[column_name] !=' ']\n",
        "    data[column_name] = pd.to_numeric(data[column_name], errors='coerce')\n",
        "    data = data[column_name].dropna().tolist() # Convert to list after ensuring numeric type\n",
        "\n",
        "    data=list(data) # to use the next function it needs to be a list - need to conver from series to list\n",
        "\n",
        "    # Visual check for normality\n",
        "    stats.probplot(data, dist=\"norm\", plot=plt)\n",
        "    plt.title('Q-Q Plot')\n",
        "    plt.show()\n",
        "    # Numeric test for normality using D'Agostino and Pearson’s Test\n",
        "    #s is the test statistic and p the p-value. We stablish we want a p value above 0.05\n",
        "\n",
        "    s, p = stats.normaltest(data)\n",
        "\n",
        "    if p > 0.05:\n",
        "        print(\"Data follows a normal distribution (fail to reject H0) with p = %.3f\" % (p))\n",
        "    else:\n",
        "        print(\"Data does not follow a normal distribution (reject H0)with p = %.3f\" % (p))\n",
        "    return data"
      ],
      "metadata": {
        "id": "wXgR9OVntKRC"
      },
      "execution_count": null,
      "outputs": []
    },
    {
      "cell_type": "code",
      "execution_count": null,
      "metadata": {
        "id": "mNK7eRDLPUvc"
      },
      "outputs": [],
      "source": [
        "def nelson_rules(dat, column_name):\n",
        "  # Create a copy of the database and clean it - remove all N/A\n",
        "  data = dat.copy()\n",
        "  # Convert the column to numeric, forcing errors to be NaN\n",
        "  data[column_name] = pd.to_numeric(data[column_name], errors='coerce')\n",
        "  data= clean_column(data,column_name)\n",
        "\n",
        "  # Drop rows with any remaining non-numeric values in the target column\n",
        "  data = data[pd.to_numeric(data[column_name], errors='coerce').notnull()]\n",
        "\n",
        "  # Check for outliers\n",
        "  Q1 = np.percentile(data[column_name], 25) # Calculate percentile on the numerical column\n",
        "  Q3 = np.percentile(data[column_name], 75)\n",
        "  IQR = Q3 - Q1\n",
        "  lower_bound = Q1 - 1.5 * IQR\n",
        "  upper_bound = Q3 + 1.5 * IQR\n",
        "\n",
        "  sample = data[(data[column_name] > lower_bound) & (data[column_name] < upper_bound)][column_name]\n",
        "\n",
        "  center_line = (Q1+ 2* np.median(sample)+Q3)/4\n",
        "  sigma = np.std(sample, ddof=0)\n",
        "\n",
        "  # Nelson Rules:\n",
        "\n",
        "    # Rule 1: One point outside 3-sigma control limits\n",
        "  def rule1(series):\n",
        "    test1 = (series > center_line + 3 * sigma) | (series < center_line - 3 * sigma)\n",
        "    return test1\n",
        "\n",
        "    # Rule 2: Nine points in a row on the same side of the center line\n",
        "  def rule2(series):\n",
        "    test2 = series.rolling(window=9).apply(\n",
        "        lambda x: (x > center_line).all() or (x < center_line).all(), raw=True\n",
        "        ).fillna(0).astype(bool)\n",
        "    return test2\n",
        "\n",
        "    # Rule 3: Six points in a row steadily increasing or decreasing\n",
        "  def rule3 (series):\n",
        "    test3 = series.rolling(window=6).apply(\n",
        "        lambda x: all(x[i] < x[i + 1] for i in range(len(x) - 1)) or all(x[i] > x[i + 1] for i in range(len(x) - 1)),raw=True\n",
        "        ).fillna(0).astype(bool)\n",
        "    return test3\n",
        "\n",
        "    # Rule 4: Fourteen points in a row alternating up and down\n",
        "  def rule4(series):\n",
        "    test4=series.rolling(window=14).apply(\n",
        "        lambda x:all((x[i] > x[i-1] if i % 2 == 0 else x[i] < x[i-1]) for i in range(1, len(x))),\n",
        "        raw=True).fillna(0).astype(bool)\n",
        "    return test4\n",
        "\n",
        "    #Rule 5: Two out of three points in a row in Zone A or beyond (2*sigma)\n",
        "  def rule5(series):\n",
        "    test5=series.rolling(window=3).apply(\n",
        "        lambda x: (x > center_line + 2 * sigma).sum() + (x < center_line - 2 * sigma).sum() >= 2,\n",
        "        raw=False\n",
        "        ).fillna(0).astype(bool)\n",
        "    return test5\n",
        "\n",
        "    # Rule 6: Two out of three points in a row in Zone B or beyond (1* sigma)\n",
        "  def rule6(series):\n",
        "    test6=series.rolling(window=3).apply(\n",
        "        lambda x: (x > center_line + sigma).sum() + (x < center_line - sigma).sum() >= 2,\n",
        "        raw=False\n",
        "        ).fillna(0).astype(bool)\n",
        "    return test6\n",
        "\n",
        "    # Rule 7: Fifteen points in a row within Zone C (both above and below center line) (under 1 sigma)\n",
        "  def rule7(series):\n",
        "    test7=series.rolling(window=15).apply(\n",
        "        lambda x: all((center_line - sigma < val < center_line + sigma) for val in x),\n",
        "        raw=False\n",
        "        ).fillna(0).astype(bool)\n",
        "    return test7\n",
        "\n",
        "    # Rule 8: Eight points in a row with none in Zone C (under 1 sigma)\n",
        "  def rule8(series):\n",
        "    test8=series.rolling(window=8).apply(\n",
        "        lambda x: all((x < center_line - sigma)| (x > center_line + sigma)),\n",
        "        raw=False\n",
        "        ).fillna(0).astype(bool)\n",
        "    return test8\n",
        "\n",
        "  # Apply rules\n",
        "  data['R1'] = rule1(data[column_name])\n",
        "  data['R2'] = rule2(data[column_name])\n",
        "  data['R3'] = rule3(data[column_name])\n",
        "  data['R4'] = rule4(data[column_name])\n",
        "  data['R5'] = rule5(data[column_name])\n",
        "  data['R6'] = rule6(data[column_name])\n",
        "  data['R7'] = rule7(data[column_name])\n",
        "  data['R8'] = rule8(data[column_name])\n",
        "\n",
        "  return data"
      ]
    },
    {
      "cell_type": "code",
      "execution_count": null,
      "metadata": {
        "id": "mLigy24iIKWu"
      },
      "outputs": [],
      "source": [
        "# Graph the results in a process plot\n",
        "def process_plot(df,x_axis,y_axis, LL, UL):\n",
        "\n",
        "  plt.figure(figsize=(40, 6))  # figure size\n",
        "  sns.scatterplot(x=x_axis, y=y_axis, data=df)\n",
        "  sns.lineplot(x=x_axis, y=y_axis, data=df)\n",
        "  plt.title(f'{x_axis} by {y_axis}')\n",
        "  plt.xlabel(x_axis)\n",
        "  plt.ylabel(y_axis)\n",
        "  plt.xticks(rotation=45, ha='right')\n",
        "  plt.axhline(y=LL, color='orange', linestyle='--', label='Lower Limit')\n",
        "  plt.axhline(y=UL, color='orange', linestyle='--', label='Upper Limit')\n",
        "\n",
        "\n",
        "  return plt.show()"
      ]
    },
    {
      "cell_type": "code",
      "execution_count": null,
      "metadata": {
        "id": "tXhfyBl7Jhzi"
      },
      "outputs": [],
      "source": [
        "def nelson_plot(df,x_axis,y_axis):\n",
        "\n",
        "  df = df[pd.to_numeric(df[y_axis], errors='coerce').notnull()]\n",
        "\n",
        "  # Check for outliers\n",
        "  Q1 = np.percentile(df[y_axis], 25) # Calculate percentile on the numerical column\n",
        "  Q3 = np.percentile(df[y_axis], 75)\n",
        "  IQR = Q3 - Q1\n",
        "  lower_bound = Q1 - 1.5 * IQR\n",
        "  upper_bound = Q3 + 1.5 * IQR\n",
        "\n",
        "  sample = df[(df[y_axis] > lower_bound) & (df[y_axis] < upper_bound)][y_axis]\n",
        "\n",
        "  center_line = sample.median()\n",
        "  sigma = np.std(sample, ddof=0)\n",
        "  LL = center_line - 3 * sigma\n",
        "  UL = center_line + 3 * sigma\n",
        "\n",
        "  # Create the line plot\n",
        "  plt.figure(figsize=(40, 6))\n",
        "  sns.lineplot(x=x_axis, y=y_axis, data=df, marker='o', color='blue', label='Line Plot')\n",
        "\n",
        "  # Create the scatter plot\n",
        "  sns.scatterplot(x=x_axis, y=y_axis, data=df, color='blue', label='Scatter Plot')\n",
        "\n",
        "  # Add points for Nelson Rules violations\n",
        "\n",
        "  for index, row in df.iterrows():\n",
        "      if any(row[['R1', 'R2', 'R3', 'R4', 'R5', 'R6', 'R7', 'R8']]): # Check if any rule is violated\n",
        "          plt.scatter(row[x_axis], row[y_axis], color='red', marker='o', s=100)\n",
        "\n",
        "  plt.axhline(y=LL, color='grey', linestyle='--', label='Lower Limit')\n",
        "  plt.axhline(y=UL, color='grey', linestyle='--', label='Upper Limit')\n",
        "  plt.axhline(y=center_line, color='grey', linestyle='--')\n",
        "\n",
        "  plt.title(f'{x_axis} by {y_axis}')\n",
        "  plt.xlabel(x_axis)\n",
        "  plt.ylabel(y_axis)\n",
        "\n",
        "  plt.xticks(rotation=45, ha='right')\n",
        "  plt.legend()\n",
        "  plt.show()\n",
        "  return df"
      ]
    },
    {
      "cell_type": "code",
      "source": [
        "# Multivariable analysis\n",
        "def matrix_plot(data):\n",
        "\n",
        "  def numeric_table(data):\n",
        "\n",
        "    table = data.apply(pd.to_numeric, errors='coerce')\n",
        "\n",
        "    return table\n",
        "\n",
        "  # Create a multivariable matrix\n",
        "  data = numeric_table(data)\n",
        "\n",
        "\n",
        "  # Create a heatmap\n",
        "  correlation_matrix = data.corr()\n",
        "\n",
        "  plt.figure(figsize=(10, 8))\n",
        "  sns.heatmap(correlation_matrix, annot=True, cmap='coolwarm', center=0)\n",
        "  plt.title('Correlation Matrix')\n",
        "\n",
        "  return plt.show()\n",
        "\n"
      ],
      "metadata": {
        "id": "Joj7GZNYAy-h"
      },
      "execution_count": null,
      "outputs": []
    },
    {
      "cell_type": "code",
      "source": [
        "# Process Capability\n",
        "def process_capability(data1,column_name,LSL,USL):\n",
        "  data = pd.to_numeric(data1[column_name], errors='coerce')\n",
        "  data = data[np.isfinite(data)]\n",
        "\n",
        "    # Define USL & LSL\n",
        "  mean = np.mean(data)\n",
        "  std_dev = np.std(data)\n",
        "\n",
        "  Cp = (USL-LSL)/(6*std_dev)\n",
        "  Cpl=(mean - LSL)/(3*std_dev)\n",
        "  Cpu=(USL - mean)/(3*std_dev)\n",
        "  Cpk=min(Cpl,Cpu)\n",
        "  print(f\"\\033[1mCp: {Cp:.2f}\\033[0m\")\n",
        "  print(f\"\\033[1mCpk: {Cpk:.2f}\\033[0m\")\n",
        "\n",
        "\n",
        "  # Fit multiple distributions\n",
        "  f = Fitter(data, distributions=['skewnorm', 'norm', 'expon', 'lognorm', 'chi2', 't'])\n",
        "  f.fit()\n",
        "\n",
        "  # Get the best distribution\n",
        "  best_distribution = f.get_best(method='sumsquare_error')\n",
        "  best_dist_name = list(best_distribution.keys())[0]\n",
        "  best_params = best_distribution[best_dist_name]\n",
        "\n",
        "\n",
        "  # Create the histogram\n",
        "  plt.hist(data, bins=30, density=True, alpha=0.6, color='lightblue', edgecolor='black', linewidth=1.2)\n",
        "\n",
        "  # Generate the best fit line\n",
        "  x = np.linspace(min(data), max(data), 1000)\n",
        "  if best_dist_name == 'skewnorm':\n",
        "      plt.plot(x, stats.skewnorm.pdf(x, *best_params.values()), 'black', linewidth=2)\n",
        "  elif best_dist_name == 'norm':\n",
        "      plt.plot(x, stats.norm.pdf(x, *best_params.values()), 'black', linewidth=2)\n",
        "  elif best_dist_name == 'expon':\n",
        "      plt.plot(x, stats.expon.pdf(x, *best_params.values()), 'black', linewidth=2)\n",
        "  elif best_dist_name == 'lognorm':\n",
        "      plt.plot(x, stats.lognorm.pdf(x, *best_params.values()), 'black', linewidth=2)\n",
        "  elif best_dist_name == 'chi2':\n",
        "      plt.plot(x, stats.chi2.pdf(x, *best_params.values()), 'black', linewidth=2)\n",
        "  elif best_dist_name == 't':\n",
        "      plt.plot(x, stats.t.pdf(x, *best_params.values()), 'black', linewidth=2)\n",
        "\n",
        "  # Add title and labels\n",
        "  plt.title(f'Histogram with Best Fit: {best_dist_name}')\n",
        "  plt.xlabel('Data values')\n",
        "  plt.ylabel('Density')\n",
        "  plt.show()\n",
        "\n",
        "  print(f\"Best distribution: {best_dist_name}\")\n",
        "  print(f\"Parameters: {best_params}\")\n",
        "\n",
        "  return data\n"
      ],
      "metadata": {
        "id": "YPPfdxquuR7W"
      },
      "execution_count": null,
      "outputs": []
    },
    {
      "cell_type": "code",
      "source": [
        "# Import your spreadsheet into excel - change name here:\n",
        "\n",
        "def report(data, column_name2, column_name1, LSL, USL):\n",
        "    # Process the data\n",
        "    print(f\"\\033[1mProcess analysis report for variable {column_name2}\\033[0m\")\n",
        "\n",
        "\n",
        "    A = excel(data)\n",
        "\n",
        "    print(f\"\"\"\n",
        "    - Normality:\n",
        "    If the distribution is not normal, the methods here applied may not be valid.\n",
        "    \"\"\")\n",
        "\n",
        "    B = normality(A, column_name2)\n",
        "\n",
        "    C = nelson_rules(A, column_name2)\n",
        "\n",
        "    print(f\"\"\"\n",
        "    - Process Capability:\n",
        "    Ideally Cpk > 1.33\n",
        "    \"\"\")\n",
        "\n",
        "    E = spec(C, column_name2, LSL, USL)\n",
        "    csv_path = 'report.csv'\n",
        "    E.to_csv(csv_path, index=False)\n",
        "    files.download(csv_path)\n",
        "\n",
        "    F = process_plot(C, column_name1, column_name2, LSL, USL)\n",
        "\n",
        "    I = process_capability(A, column_name2, LSL, USL)\n",
        "\n",
        "\n",
        "\n",
        "    print(f\"\"\"\n",
        "    - Nelson rules test:\n",
        "    \"\"\")\n",
        "\n",
        "\n",
        "    D = nelson_plot(C, column_name1, column_name2)\n",
        "\n",
        "    print(f\"\"\"\n",
        "    - Multivariant analysis:\n",
        "    \"\"\")\n",
        "\n",
        "    G = C.iloc[:, :10]\n",
        "    H = matrix_plot(G)\n",
        "\n",
        "\n",
        "    return B, E, F, I, H"
      ],
      "metadata": {
        "id": "lqTdtlTv7nY8"
      },
      "execution_count": null,
      "outputs": []
    },
    {
      "cell_type": "code",
      "source": [
        "def user():\n",
        "  data = input(\"Enter the name of the excel file: \")\n",
        "  column_name2 = input(\"Enter the name of the column to analyze: \")\n",
        "  column_name1 = input(\"Enter the name of the column for grouping: \")\n",
        "  LSL = float(input(\"Enter the lower limit: \"))\n",
        "  USL = float(input(\"Enter the upper limit: \"))\n",
        "  report(data,column_name2,column_name1, LSL,USL)\n",
        "\n",
        "  print(report)\n",
        "\n",
        "if __name__ == \"__user__\":\n",
        "  user()"
      ],
      "metadata": {
        "id": "WVXj4vth_UZ2"
      },
      "execution_count": null,
      "outputs": []
    },
    {
      "cell_type": "code",
      "source": [
        "# Upload excel files to the colab\n",
        "uploaded = files.upload()"
      ],
      "metadata": {
        "id": "J4XhiifAA46Z"
      },
      "execution_count": null,
      "outputs": []
    },
    {
      "cell_type": "code",
      "source": [
        "# Get the report\n",
        "Report = user()"
      ],
      "metadata": {
        "id": "NynkHIxHA7RH"
      },
      "execution_count": null,
      "outputs": []
    }
  ],
  "metadata": {
    "colab": {
      "provenance": []
    },
    "kernelspec": {
      "display_name": "Python 3",
      "name": "python3"
    },
    "language_info": {
      "codemirror_mode": {
        "name": "ipython",
        "version": 3
      },
      "file_extension": ".py",
      "mimetype": "text/x-python",
      "name": "python",
      "nbconvert_exporter": "python",
      "pygments_lexer": "ipython3",
      "version": "3.13.0"
    }
  },
  "nbformat": 4,
  "nbformat_minor": 0
}